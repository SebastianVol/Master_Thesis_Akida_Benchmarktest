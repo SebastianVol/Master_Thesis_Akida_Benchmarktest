{
 "cells": [
  {
   "cell_type": "markdown",
   "id": "88f3fa57",
   "metadata": {},
   "source": [
    "<font size=\"5\">Performance Measurement UltraTrail with different Clock-Mode Settings</font>\n",
    "\n",
    "In this notebook the different clock mode settings of the Akida neural processor from BrainChip is investigated."
   ]
  },
  {
   "cell_type": "code",
   "execution_count": 1,
   "id": "65d4138a",
   "metadata": {},
   "outputs": [],
   "source": [
    "import os\n",
    "from os import listdir\n",
    "from os.path import isdir, join\n",
    "import pathlib\n",
    "\n",
    "import akida\n",
    "from akida import FullyConnected\n",
    "from akida import evaluate_sparsity\n",
    "import cnn2snn\n",
    "from cnn2snn import check_model_compatibility\n",
    "from cnn2snn import quantize\n",
    "from cnn2snn import quantize_layer\n",
    "from cnn2snn import convert\n",
    "\n",
    "from math import ceil\n",
    "\n",
    "from timeit import default_timer as timer\n",
    "import numpy as np"
   ]
  },
  {
   "cell_type": "code",
   "execution_count": 2,
   "id": "2f8f538c",
   "metadata": {},
   "outputs": [],
   "source": [
    "# Load the quantized CNN\n",
    "\n",
    "quantized_model = cnn2snn.load_quantized_model('final_quantized_ultratrail_model.h5')"
   ]
  },
  {
   "cell_type": "code",
   "execution_count": 3,
   "id": "08495717",
   "metadata": {},
   "outputs": [
    {
     "name": "stdout",
     "output_type": "stream",
     "text": [
      "                 Model Summary                 \n",
      "_______________________________________________\n",
      "Input shape   Output shape  Sequences  Layers\n",
      "===============================================\n",
      "[40, 101, 1]  [1, 1, 12]    1          10    \n",
      "_______________________________________________\n",
      "\n",
      "                SW/conv_0-dense (Software)                 \n",
      "___________________________________________________________\n",
      "Layer (type)             Output shape   Kernel shape     \n",
      "===========================================================\n",
      "conv_0 (InputConv.)      [51, 20, 32]   (3, 3, 1, 32)    \n",
      "___________________________________________________________\n",
      "separable_1 (Sep.Conv.)  [51, 20, 32]   (3, 3, 32, 1)    \n",
      "___________________________________________________________\n",
      "                                        (1, 1, 32, 32)   \n",
      "___________________________________________________________\n",
      "separable_2 (Sep.Conv.)  [26, 10, 64]   (3, 3, 32, 1)    \n",
      "___________________________________________________________\n",
      "                                        (1, 1, 32, 64)   \n",
      "___________________________________________________________\n",
      "separable_3 (Sep.Conv.)  [26, 10, 128]  (3, 3, 64, 1)    \n",
      "___________________________________________________________\n",
      "                                        (1, 1, 64, 128)  \n",
      "___________________________________________________________\n",
      "separable_4 (Sep.Conv.)  [13, 5, 128]   (3, 3, 128, 1)   \n",
      "___________________________________________________________\n",
      "                                        (1, 1, 128, 128) \n",
      "___________________________________________________________\n",
      "separable_5 (Sep.Conv.)  [13, 5, 256]   (3, 3, 128, 1)   \n",
      "___________________________________________________________\n",
      "                                        (1, 1, 128, 256) \n",
      "___________________________________________________________\n",
      "separable_6 (Sep.Conv.)  [7, 3, 256]    (3, 3, 256, 1)   \n",
      "___________________________________________________________\n",
      "                                        (1, 1, 256, 256) \n",
      "___________________________________________________________\n",
      "separable_7 (Sep.Conv.)  [4, 2, 512]    (3, 3, 256, 1)   \n",
      "___________________________________________________________\n",
      "                                        (1, 1, 256, 512) \n",
      "___________________________________________________________\n",
      "separable_8 (Sep.Conv.)  [1, 1, 1024]   (3, 3, 512, 1)   \n",
      "___________________________________________________________\n",
      "                                        (1, 1, 512, 1024)\n",
      "___________________________________________________________\n",
      "dense (Fully.)           [1, 1, 12]     (1, 1, 1024, 12) \n",
      "___________________________________________________________\n",
      "\n"
     ]
    }
   ],
   "source": [
    "#  Convert to an Akida model\n",
    "\n",
    "akida_model = convert(quantized_model)\n",
    "akida_model.summary()"
   ]
  },
  {
   "cell_type": "code",
   "execution_count": 4,
   "id": "a60e8b89",
   "metadata": {},
   "outputs": [
    {
     "name": "stdout",
     "output_type": "stream",
     "text": [
      "Feature Sets:  ['x_train', 'y_train', 'x_val', 'y_val', 'x_test', 'y_test']\n"
     ]
    }
   ],
   "source": [
    "# Load the test set\n",
    "\n",
    "feature_sets_filename = 'final1_stored_files_targets_int_normalized.npz'\n",
    "\n",
    "feature_sets = np.load(feature_sets_filename)\n",
    "\n",
    "print('Feature Sets: ', feature_sets.files)"
   ]
  },
  {
   "cell_type": "code",
   "execution_count": 5,
   "id": "962b9c15",
   "metadata": {},
   "outputs": [],
   "source": [
    "# Assign test set\n",
    "\n",
    "x_test = feature_sets['x_test']\n",
    "y_test = feature_sets['y_test']"
   ]
  },
  {
   "cell_type": "code",
   "execution_count": 6,
   "id": "4575cba4",
   "metadata": {},
   "outputs": [
    {
     "name": "stdout",
     "output_type": "stream",
     "text": [
      "(4371, 40, 101, 1)\n"
     ]
    }
   ],
   "source": [
    "# Add dimension\n",
    "\n",
    "x_test = x_test.reshape(x_test.shape[0], \n",
    "                        x_test.shape[1], \n",
    "                        x_test.shape[2], \n",
    "                        1)\n",
    "\n",
    "print(x_test.shape)"
   ]
  },
  {
   "cell_type": "code",
   "execution_count": 7,
   "id": "38b86253",
   "metadata": {},
   "outputs": [
    {
     "name": "stdout",
     "output_type": "stream",
     "text": [
      "Akida NP available : <akida.core.HardwareDevice object at 0xffff457229b0>\n"
     ]
    }
   ],
   "source": [
    "# Define device \n",
    "\n",
    "devices = akida.devices()\n",
    "print('Akida NP available :', devices[0])"
   ]
  },
  {
   "cell_type": "code",
   "execution_count": 8,
   "id": "b6ace3c5",
   "metadata": {},
   "outputs": [
    {
     "name": "stdout",
     "output_type": "stream",
     "text": [
      "BC.00.000.002\n"
     ]
    }
   ],
   "source": [
    "# Print device version\n",
    "\n",
    "print(devices[0].version)"
   ]
  },
  {
   "cell_type": "code",
   "execution_count": 9,
   "id": "f2a07144",
   "metadata": {},
   "outputs": [
    {
     "name": "stdout",
     "output_type": "stream",
     "text": [
      "                 Model Summary                 \n",
      "_______________________________________________\n",
      "Input shape   Output shape  Sequences  Layers\n",
      "===============================================\n",
      "[40, 101, 1]  [1, 1, 12]    3          10    \n",
      "_______________________________________________\n",
      "\n",
      "     HW/conv_0-separable_7 (Hardware) - size: 204356 bytes     \n",
      "_______________________________________________________________\n",
      "Layer (type)             Output shape   Kernel shape      NPs\n",
      "===============================================================\n",
      "conv_0 (InputConv.)      [51, 20, 32]   (3, 3, 1, 32)     N/A\n",
      "_______________________________________________________________\n",
      "separable_1 (Sep.Conv.)  [51, 20, 32]   (3, 3, 32, 1)     2  \n",
      "_______________________________________________________________\n",
      "                                        (1, 1, 32, 32)       \n",
      "_______________________________________________________________\n",
      "separable_2 (Sep.Conv.)  [26, 10, 64]   (3, 3, 32, 1)     2  \n",
      "_______________________________________________________________\n",
      "                                        (1, 1, 32, 64)       \n",
      "_______________________________________________________________\n",
      "separable_3 (Sep.Conv.)  [26, 10, 128]  (3, 3, 64, 1)     1  \n",
      "_______________________________________________________________\n",
      "                                        (1, 1, 64, 128)      \n",
      "_______________________________________________________________\n",
      "separable_4 (Sep.Conv.)  [13, 5, 128]   (3, 3, 128, 1)    1  \n",
      "_______________________________________________________________\n",
      "                                        (1, 1, 128, 128)     \n",
      "_______________________________________________________________\n",
      "separable_5 (Sep.Conv.)  [13, 5, 256]   (3, 3, 128, 1)    1  \n",
      "_______________________________________________________________\n",
      "                                        (1, 1, 128, 256)     \n",
      "_______________________________________________________________\n",
      "separable_6 (Sep.Conv.)  [7, 3, 256]    (3, 3, 256, 1)    1  \n",
      "_______________________________________________________________\n",
      "                                        (1, 1, 256, 256)     \n",
      "_______________________________________________________________\n",
      "separable_7 (Sep.Conv.)  [4, 2, 512]    (3, 3, 256, 1)    2  \n",
      "_______________________________________________________________\n",
      "                                        (1, 1, 256, 512)     \n",
      "_______________________________________________________________\n",
      "\n",
      "                SW/separable_8 (Software)                 \n",
      "__________________________________________________________\n",
      "Layer (type)             Output shape  Kernel shape     \n",
      "==========================================================\n",
      "separable_8 (Sep.Conv.)  [1, 1, 1024]  (3, 3, 512, 1)   \n",
      "__________________________________________________________\n",
      "                                       (1, 1, 512, 1024)\n",
      "__________________________________________________________\n",
      "\n",
      "       HW/dense (Hardware) - size: 10000 bytes       \n",
      "_____________________________________________________\n",
      "Layer (type)    Output shape  Kernel shape      NPs\n",
      "=====================================================\n",
      "dense (Fully.)  [1, 1, 12]    (1, 1, 1024, 12)  1  \n",
      "_____________________________________________________\n",
      "\n"
     ]
    }
   ],
   "source": [
    "# Map Akida model to device\n",
    "\n",
    "device = devices[0]\n",
    "\n",
    "akida_model.map(device)\n",
    "\n",
    "akida_model.summary()"
   ]
  },
  {
   "cell_type": "markdown",
   "id": "507eb01c",
   "metadata": {},
   "source": [
    "<font size=\"5\">Clock Mode: Performance</font>\n",
    "\n",
    "In the following are the power measurements with the clock mode \"Performance\" enabled. "
   ]
  },
  {
   "cell_type": "code",
   "execution_count": 10,
   "id": "e4af88bc",
   "metadata": {},
   "outputs": [],
   "source": [
    "device.soc.power_measurement_enabled = True\n",
    "device.soc.clock_mode = akida.soc.ClockMode.Performance"
   ]
  },
  {
   "cell_type": "code",
   "execution_count": 13,
   "id": "5fc74405",
   "metadata": {},
   "outputs": [
    {
     "name": "stdout",
     "output_type": "stream",
     "text": [
      "Floor power: 900.01 mW\n",
      "\n",
      "Sequence HW/conv_0-separable_7\n",
      "Average framerate = 383.42 fps\n",
      "Last inference power range (mW):  Avg 1032.91 / Min 1032.00 / Max 1034.00 / Std 1.02 \n",
      "Last inference energy consumed (mJ/frame): 2.69\n",
      "Sequence SW/separable_8\n",
      "Average framerate = 1096.59 fps\n",
      "Last inference power range (mW):  Avg 905.21 / Min 902.00 / Max 974.00 / Std 13.37 \n",
      "Last inference energy consumed (mJ/frame): 0.83\n",
      "Sequence HW/dense\n",
      "Average framerate = 3216.34 fps\n",
      "Last inference power range (mW):  Avg 904.28 / Min 902.00 / Max 917.00 / Std 4.65 \n",
      "Last inference energy consumed (mJ/frame): 0.28\n",
      "Akida inference 4371 MFCC took 16.81 s.\n",
      "\n"
     ]
    }
   ],
   "source": [
    "start = timer()\n",
    "akida_model.forward(x_test)\n",
    "end = timer()\n",
    "# Display floor current\n",
    "floor_power = device.soc.power_meter.floor\n",
    "print(f'Floor power: {floor_power:.2f} mW')\n",
    "print(akida_model.statistics)\n",
    "print(f'Akida inference {len(x_test)} MFCC took {end-start:.2f} s.\\n')"
   ]
  },
  {
   "cell_type": "code",
   "execution_count": 16,
   "id": "5957fe1d",
   "metadata": {},
   "outputs": [
    {
     "name": "stdout",
     "output_type": "stream",
     "text": [
      "(40, 101, 1)\n"
     ]
    }
   ],
   "source": [
    "print(x_test[0].shape)"
   ]
  },
  {
   "cell_type": "code",
   "execution_count": 19,
   "id": "f05999ac",
   "metadata": {},
   "outputs": [
    {
     "name": "stdout",
     "output_type": "stream",
     "text": [
      "(1, 40, 101, 1)\n"
     ]
    }
   ],
   "source": [
    "inf_test = inf_test.reshape(1, \n",
    "                        x_test.shape[1], \n",
    "                        x_test.shape[2], \n",
    "                        1)\n",
    "\n",
    "print(inf_test.shape)"
   ]
  },
  {
   "cell_type": "code",
   "execution_count": 21,
   "id": "7c8a3c28",
   "metadata": {},
   "outputs": [
    {
     "name": "stdout",
     "output_type": "stream",
     "text": [
      "Floor power: 900.01 mW\n",
      "\n",
      "Sequence HW/conv_0-separable_7\n",
      "Average framerate = 76.92 fps\n",
      "Sequence SW/separable_8\n",
      "Average framerate = 142.86 fps\n",
      "Sequence HW/dense\n",
      "Average framerate = 1000.00 fps\n",
      "Akida inference 1 MFCC took 0.05 s.\n",
      "\n"
     ]
    }
   ],
   "source": [
    "start = timer()\n",
    "akida_model.forward(inf_test)\n",
    "end = timer()\n",
    "print(f'Floor power: {floor_power:.2f} mW')\n",
    "print(akida_model.statistics)\n",
    "print(f'Akida inference {len(inf_test)} MFCC took {end-start:.2f} s.\\n')"
   ]
  },
  {
   "cell_type": "markdown",
   "id": "b83122d6",
   "metadata": {},
   "source": [
    "<font size=\"5\">Clock Mode: Economy</font>\n",
    "\n",
    "In the following are the power measurements with the clock mode \"Economy\" enabled. "
   ]
  },
  {
   "cell_type": "code",
   "execution_count": 22,
   "id": "212c3087",
   "metadata": {},
   "outputs": [
    {
     "name": "stdout",
     "output_type": "stream",
     "text": [
      "ClockMode.Economy\n"
     ]
    }
   ],
   "source": [
    "device.soc.clock_mode = akida.soc.ClockMode.Economy\n",
    "print(device.soc.clock_mode)"
   ]
  },
  {
   "cell_type": "code",
   "execution_count": 23,
   "id": "886958fe",
   "metadata": {},
   "outputs": [
    {
     "name": "stdout",
     "output_type": "stream",
     "text": [
      "Floor power: 735.69 mW\n",
      "\n",
      "Sequence HW/conv_0-separable_7\n",
      "Average framerate = 127.84 fps\n",
      "Last inference power range (mW):  Avg 780.00 / Min 780.00 / Max 780.00 / Std 0.00 \n",
      "Last inference energy consumed (mJ/frame): 6.10\n",
      "Sequence SW/separable_8\n",
      "Average framerate = 1086.50 fps\n",
      "Last inference power range (mW):  Avg 736.23 / Min 735.00 / Max 780.00 / Std 6.36 \n",
      "Last inference energy consumed (mJ/frame): 0.68\n",
      "Sequence HW/dense\n",
      "Average framerate = 3142.34 fps\n",
      "Last inference power range (mW):  Avg 735.33 / Min 735.00 / Max 738.00 / Std 0.97 \n",
      "Last inference energy consumed (mJ/frame): 0.23\n",
      "Akida inference 4371 MFCC took 39.68 s.\n",
      "\n"
     ]
    }
   ],
   "source": [
    "start = timer()\n",
    "akida_model.forward(x_test)\n",
    "end = timer()\n",
    "# Display floor current\n",
    "floor_power = device.soc.power_meter.floor\n",
    "print(f'Floor power: {floor_power:.2f} mW')\n",
    "print(akida_model.statistics)\n",
    "print(f'Akida inference {len(x_test)} MFCC took {end-start:.2f} s.\\n')"
   ]
  },
  {
   "cell_type": "code",
   "execution_count": 24,
   "id": "e4329e38",
   "metadata": {},
   "outputs": [
    {
     "name": "stdout",
     "output_type": "stream",
     "text": [
      "Floor power: 735.69 mW\n",
      "\n",
      "Sequence HW/conv_0-separable_7\n",
      "Average framerate = 27.78 fps\n",
      "Sequence SW/separable_8\n",
      "Average framerate = 142.86 fps\n",
      "Sequence HW/dense\n",
      "Average framerate = 500.00 fps\n",
      "Akida inference 1 MFCC took 0.08 s.\n",
      "\n"
     ]
    }
   ],
   "source": [
    "start = timer()\n",
    "akida_model.forward(inf_test)\n",
    "end = timer()\n",
    "print(f'Floor power: {floor_power:.2f} mW')\n",
    "print(akida_model.statistics)\n",
    "print(f'Akida inference {len(inf_test)} MFCC took {end-start:.2f} s.\\n')"
   ]
  },
  {
   "cell_type": "markdown",
   "id": "19911ad5",
   "metadata": {},
   "source": [
    "<font size=\"5\">Clock Mode: LowPower</font>\n",
    "\n",
    "In the following are the power measurements with the clock mode \"LowPower\" enabled. "
   ]
  },
  {
   "cell_type": "code",
   "execution_count": 25,
   "id": "a7d34ac3",
   "metadata": {},
   "outputs": [
    {
     "name": "stdout",
     "output_type": "stream",
     "text": [
      "ClockMode.LowPower\n"
     ]
    }
   ],
   "source": [
    "device.soc.clock_mode = akida.soc.ClockMode.LowPower\n",
    "print(device.soc.clock_mode)"
   ]
  },
  {
   "cell_type": "code",
   "execution_count": 26,
   "id": "b4ad5b30",
   "metadata": {},
   "outputs": [
    {
     "name": "stdout",
     "output_type": "stream",
     "text": [
      "Floor power: 653.35 mW\n",
      "\n",
      "Sequence HW/conv_0-separable_7\n",
      "Average framerate = 6.39 fps\n",
      "Sequence SW/separable_8\n",
      "Average framerate = 944.67 fps\n",
      "Last inference power range (mW):  Avg 653.00 / Min 653.00 / Max 653.00 / Std 0.00 \n",
      "Last inference energy consumed (mJ/frame): 0.69\n",
      "Sequence HW/dense\n",
      "Average framerate = 773.90 fps\n",
      "Last inference power range (mW):  Avg 653.51 / Min 653.00 / Max 655.00 / Std 0.88 \n",
      "Last inference energy consumed (mJ/frame): 0.84\n",
      "Akida inference 4371 MFCC took 694.12 s.\n",
      "\n"
     ]
    }
   ],
   "source": [
    "start = timer()\n",
    "akida_model.forward(x_test)\n",
    "end = timer()\n",
    "# Display floor current\n",
    "floor_power = device.soc.power_meter.floor\n",
    "print(f'Floor power: {floor_power:.2f} mW')\n",
    "print(akida_model.statistics)\n",
    "print(f'Akida inference {len(x_test)} MFCC took {end-start:.2f} s.\\n')"
   ]
  },
  {
   "cell_type": "code",
   "execution_count": 27,
   "id": "d24221b9",
   "metadata": {},
   "outputs": [
    {
     "name": "stdout",
     "output_type": "stream",
     "text": [
      "Floor power: 653.35 mW\n",
      "\n",
      "Sequence HW/conv_0-separable_7\n",
      "Average framerate = 1.43 fps\n",
      "Last inference power range (mW):  Avg 655.00 / Min 655.00 / Max 655.00 / Std 0.00 \n",
      "Last inference energy consumed (mJ/frame): 458.50\n",
      "Sequence SW/separable_8\n",
      "Average framerate = 250.00 fps\n",
      "Sequence HW/dense\n",
      "Average framerate = 500.00 fps\n",
      "Akida inference 1 MFCC took 0.77 s.\n",
      "\n"
     ]
    }
   ],
   "source": [
    "start = timer()\n",
    "akida_model.forward(inf_test)\n",
    "end = timer()\n",
    "print(f'Floor power: {floor_power:.2f} mW')\n",
    "print(akida_model.statistics)\n",
    "print(f'Akida inference {len(inf_test)} MFCC took {end-start:.2f} s.\\n')"
   ]
  },
  {
   "cell_type": "code",
   "execution_count": null,
   "id": "15e916d6",
   "metadata": {},
   "outputs": [],
   "source": []
  }
 ],
 "metadata": {
  "kernelspec": {
   "display_name": "Python 3 (ipykernel)",
   "language": "python",
   "name": "python3"
  },
  "language_info": {
   "codemirror_mode": {
    "name": "ipython",
    "version": 3
   },
   "file_extension": ".py",
   "mimetype": "text/x-python",
   "name": "python",
   "nbconvert_exporter": "python",
   "pygments_lexer": "ipython3",
   "version": "3.9.7"
  }
 },
 "nbformat": 4,
 "nbformat_minor": 5
}
