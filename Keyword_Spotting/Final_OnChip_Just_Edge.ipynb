{
 "cells": [
  {
   "cell_type": "markdown",
   "id": "e54377f6",
   "metadata": {},
   "source": [
    "<font size=\"5\">On-Chip Edge Learning</font>\n",
    "\n",
    "This notebook was executed on the development kit from BrainChip. Furthermore, the on-chip edge learning was executed. The code was inspired by the official code from BrainChip (https://doc.brainchipinc.com/examples/edge/plot_1_edge_learning_kws.html)."
   ]
  },
  {
   "cell_type": "code",
   "execution_count": 1,
   "id": "382e1f3a",
   "metadata": {},
   "outputs": [],
   "source": [
    "import os\n",
    "from os import listdir\n",
    "from os.path import isdir, join\n",
    "import pathlib\n",
    "\n",
    "import akida\n",
    "from akida import FullyConnected\n",
    "from akida import evaluate_sparsity\n",
    "import cnn2snn\n",
    "from cnn2snn import check_model_compatibility\n",
    "from cnn2snn import quantize\n",
    "from cnn2snn import quantize_layer\n",
    "from cnn2snn import convert\n",
    "\n",
    "from math import ceil\n",
    "\n",
    "from timeit import default_timer as timer\n",
    "import numpy as np\n",
    "\n",
    "import itertools\n",
    "import matplotlib.pyplot as plt"
   ]
  },
  {
   "cell_type": "markdown",
   "id": "6c92b951",
   "metadata": {},
   "source": [
    "<font size=\"5\"> 1. Load the Data Set and Model</font>"
   ]
  },
  {
   "cell_type": "code",
   "execution_count": 2,
   "id": "4115cf24",
   "metadata": {},
   "outputs": [],
   "source": [
    "# Load the previous trained model. (Source Model: Final_OnChip_Edge)\n",
    "\n",
    "akida_model = akida.Model('akida_model_edge.fbz')"
   ]
  },
  {
   "cell_type": "code",
   "execution_count": 3,
   "id": "3aaa3992",
   "metadata": {},
   "outputs": [
    {
     "name": "stdout",
     "output_type": "stream",
     "text": [
      "Feature Sets:  ['x_train', 'y_train', 'x_val', 'y_val', 'x_test', 'y_test']\n",
      "Feature Sets for Edge:  ['x_train', 'y_train', 'x_val', 'y_val']\n"
     ]
    }
   ],
   "source": [
    "# Define directories of the data\n",
    "\n",
    "feature_sets_filename = 'final_stored_files_targets_int_normalized_wedge.npz'\n",
    "feature_sets_filename_edge = 'final_stored_files_targets_int_normalized_just_edge.npz'\n",
    "\n",
    "# Load feature sets\n",
    "\n",
    "feature_sets = np.load(feature_sets_filename)\n",
    "feature_sets_edge = np.load(feature_sets_filename_edge)\n",
    "print('Feature Sets: ', feature_sets.files)\n",
    "print('Feature Sets for Edge: ', feature_sets_edge.files)"
   ]
  },
  {
   "cell_type": "code",
   "execution_count": 4,
   "id": "9ce49fad",
   "metadata": {},
   "outputs": [],
   "source": [
    "# Assign feature sets of inital data set\n",
    "\n",
    "x_train = feature_sets['x_train']\n",
    "y_train = feature_sets['y_train']\n",
    "x_val = feature_sets['x_val']\n",
    "y_val = feature_sets['y_val']\n",
    "x_test = feature_sets['x_test']\n",
    "y_test = feature_sets['y_test']\n",
    "\n",
    "# Assign feature sets of edge data set\n",
    "\n",
    "x_train_edge = feature_sets_edge['x_train']\n",
    "y_train_edge = feature_sets_edge['y_train']\n",
    "x_val_edge = feature_sets_edge['x_val']\n",
    "y_val_edge = feature_sets_edge['y_val']"
   ]
  },
  {
   "cell_type": "code",
   "execution_count": 5,
   "id": "988eecb9",
   "metadata": {},
   "outputs": [
    {
     "name": "stdout",
     "output_type": "stream",
     "text": [
      "Add dimension to all data: Order Train, Val, Test, Train_edge, Val_edge: \n",
      "(34972, 40, 101, 1)\n",
      "(4371, 40, 101, 1)\n",
      "(4371, 40, 101, 1)\n",
      "(120, 40, 101, 1)\n",
      "(19, 40, 101, 1)\n"
     ]
    }
   ],
   "source": [
    "# CNN for conversion expects (batch, height, width, channels)\n",
    "# The channels can either be 1 for gray-scaled images or 3 for RGB-images\n",
    "\n",
    "x_train = x_train.reshape(x_train.shape[0], \n",
    "                          x_train.shape[1], \n",
    "                          x_train.shape[2], \n",
    "                          1)\n",
    "x_val = x_val.reshape(x_val.shape[0], \n",
    "                      x_val.shape[1], \n",
    "                      x_val.shape[2], \n",
    "                      1)\n",
    "x_test = x_test.reshape(x_test.shape[0], \n",
    "                        x_test.shape[1], \n",
    "                        x_test.shape[2], \n",
    "                        1)\n",
    "\n",
    "x_train_edge = x_train_edge.reshape(x_train_edge.shape[0], \n",
    "                          x_train_edge.shape[1], \n",
    "                          x_train_edge.shape[2], \n",
    "                          1)\n",
    "x_val_edge = x_val_edge.reshape(x_val_edge.shape[0], \n",
    "                      x_val_edge.shape[1], \n",
    "                      x_val_edge.shape[2], \n",
    "                      1)\n",
    "\n",
    "\n",
    "\n",
    "print('Add dimension to all data: Order Train, Val, Test, Train_edge, Val_edge: ')\n",
    "print(x_train.shape)\n",
    "print(x_val.shape)\n",
    "print(x_test.shape)\n",
    "print(x_train_edge.shape)\n",
    "print(x_val_edge.shape)"
   ]
  },
  {
   "cell_type": "markdown",
   "id": "d9ffe3b2",
   "metadata": {},
   "source": [
    "<font size=\"5\"> 2. Edge Learning with previously defined Hyperparameters</font>\n",
    "\n",
    "The hyperparameters were defined in the notebook Final_OnChip_Edge."
   ]
  },
  {
   "cell_type": "code",
   "execution_count": 6,
   "id": "34079cc5",
   "metadata": {},
   "outputs": [
    {
     "name": "stdout",
     "output_type": "stream",
     "text": [
      "Akida NP available : <akida.core.HardwareDevice object at 0xffff430ca630>\n"
     ]
    }
   ],
   "source": [
    "devices = akida.devices()\n",
    "print('Akida NP available :', devices[0])\n",
    "device = devices[0]"
   ]
  },
  {
   "cell_type": "code",
   "execution_count": 7,
   "id": "9ed87c11",
   "metadata": {},
   "outputs": [],
   "source": [
    "akida_model.map(device)"
   ]
  },
  {
   "cell_type": "code",
   "execution_count": 8,
   "id": "d1450101",
   "metadata": {},
   "outputs": [],
   "source": [
    "# Add 3 classes\n",
    "\n",
    "akida_model.add_classes(3)"
   ]
  },
  {
   "cell_type": "code",
   "execution_count": 9,
   "id": "432557e6",
   "metadata": {},
   "outputs": [
    {
     "name": "stdout",
     "output_type": "stream",
     "text": [
      "\n",
      "Edge learning with 3 new classes ...\n",
      "Elapsed time for Akida edge learning: 0.85 s\n"
     ]
    }
   ],
   "source": [
    "# Train the Akida on the new keywords\n",
    "# Code Source: https://doc.brainchipinc.com/examples/edge/plot_1_edge_learning_kws.html\n",
    "\n",
    "print(\"\\nEdge learning with 3 new classes ...\")\n",
    "start = timer()\n",
    "akida_model.fit(x_train_edge, y_train_edge.astype(np.int32))\n",
    "end = timer()\n",
    "print(f\"Elapsed time for Akida edge learning: {end-start:.2f} s\")"
   ]
  },
  {
   "cell_type": "code",
   "execution_count": 11,
   "id": "33a3df6b",
   "metadata": {},
   "outputs": [],
   "source": [
    "# Define the number of keywords used in the edge data set\n",
    "\n",
    "num_labels_edge = 15"
   ]
  },
  {
   "cell_type": "code",
   "execution_count": 12,
   "id": "ce8ae6a4",
   "metadata": {},
   "outputs": [
    {
     "name": "stdout",
     "output_type": "stream",
     "text": [
      "Akida train set accuracy on old data set: 98.97 %\n",
      "Akida validation set accuracy on old data set: 94.01 %\n",
      "Akida test set accuracy on old data set: 93.46 %\n"
     ]
    }
   ],
   "source": [
    "# Print the performance on the different data sets\n",
    "\n",
    "preds_val_ak_old_train = akida_model.predict(x_train, num_classes=num_labels_edge)\n",
    "acc_val_ak = np.sum(preds_val_ak_old_train == y_train) / y_train.shape[0]\n",
    "print(f\"Akida train set accuracy on old data set: {100 * acc_val_ak:.2f} %\")\n",
    "preds_val_ak_old_val = akida_model.predict(x_val, num_classes=num_labels_edge)\n",
    "acc_val_ak = np.sum(preds_val_ak_old_val == y_val) / y_val.shape[0]\n",
    "print(f\"Akida validation set accuracy on old data set: {100 * acc_val_ak:.2f} %\")\n",
    "preds_val_ak_old_test = akida_model.predict(x_test, num_classes=num_labels_edge)\n",
    "acc_val_ak = np.sum(preds_val_ak_old_test == y_test) / y_test.shape[0]\n",
    "print(f\"Akida test set accuracy on old data set: {100 * acc_val_ak:.2f} %\")"
   ]
  },
  {
   "cell_type": "code",
   "execution_count": 16,
   "id": "d77299fd",
   "metadata": {},
   "outputs": [
    {
     "name": "stdout",
     "output_type": "stream",
     "text": [
      "Akida training set accuracy on new data set: 94.17 %\n",
      "Akida validation set accuracy on new data set: 89.47 %\n"
     ]
    }
   ],
   "source": [
    "# Print the performance on the edge data set. \n",
    "\n",
    "preds_val_ak_new_train = akida_model.predict(x_train_edge, num_classes=num_labels_edge)\n",
    "acc_val_ak = np.sum(preds_val_ak_new_train == y_train_edge) / y_train_edge.shape[0]\n",
    "print(f\"Akida training set accuracy on new data set: {100 * acc_val_ak:.2f} %\")\n",
    "preds_val_ak_new_val = akida_model.predict(x_val_edge, num_classes=num_labels_edge)\n",
    "acc_val_ak = np.sum(preds_val_ak_new_val == y_val_edge) / y_val_edge.shape[0]\n",
    "print(f\"Akida validation set accuracy on new data set: {100 * acc_val_ak:.2f} %\")"
   ]
  },
  {
   "cell_type": "code",
   "execution_count": null,
   "id": "6edacbb0",
   "metadata": {},
   "outputs": [],
   "source": []
  }
 ],
 "metadata": {
  "kernelspec": {
   "display_name": "Python 3 (ipykernel)",
   "language": "python",
   "name": "python3"
  },
  "language_info": {
   "codemirror_mode": {
    "name": "ipython",
    "version": 3
   },
   "file_extension": ".py",
   "mimetype": "text/x-python",
   "name": "python",
   "nbconvert_exporter": "python",
   "pygments_lexer": "ipython3",
   "version": "3.9.7"
  }
 },
 "nbformat": 4,
 "nbformat_minor": 5
}
