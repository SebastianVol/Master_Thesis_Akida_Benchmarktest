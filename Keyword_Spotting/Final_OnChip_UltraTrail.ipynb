{
 "cells": [
  {
   "cell_type": "markdown",
   "id": "46bd926f",
   "metadata": {},
   "source": [
    "<font size=\"5\">Performance Measurement UltraTrail</font>\n",
    "\n",
    "In this notebook the pretrained Akida model which was trained according to the UltraTrail experimental setup, was mapped to the NP of the development kit. Additionally, the energy consumption is reported. This code is inspired by\n",
    "https://doc.brainchipinc.com/examples/general/plot_1_akidanet_imagenet.html#sphx-glr-examples-general-plot-1-akidanet-imagenet-py"
   ]
  },
  {
   "cell_type": "code",
   "execution_count": 1,
   "id": "c6132c9b",
   "metadata": {},
   "outputs": [],
   "source": [
    "import os\n",
    "from os import listdir\n",
    "from os.path import isdir, join\n",
    "import pathlib\n",
    "\n",
    "import akida\n",
    "from akida import FullyConnected\n",
    "from akida import evaluate_sparsity\n",
    "import cnn2snn\n",
    "from cnn2snn import check_model_compatibility\n",
    "from cnn2snn import quantize\n",
    "from cnn2snn import quantize_layer\n",
    "from cnn2snn import convert\n",
    "\n",
    "from math import ceil\n",
    "\n",
    "from timeit import default_timer as timer\n",
    "import numpy as np"
   ]
  },
  {
   "cell_type": "code",
   "execution_count": 2,
   "id": "e626c4eb",
   "metadata": {},
   "outputs": [],
   "source": [
    "# Load the quantized CNN\n",
    "\n",
    "quantized_model = cnn2snn.load_quantized_model('final_quantized_ultratrail_model.h5')"
   ]
  },
  {
   "cell_type": "code",
   "execution_count": 3,
   "id": "f2e0c4d6",
   "metadata": {},
   "outputs": [
    {
     "name": "stdout",
     "output_type": "stream",
     "text": [
      "                 Model Summary                 \n",
      "_______________________________________________\n",
      "Input shape   Output shape  Sequences  Layers\n",
      "===============================================\n",
      "[40, 101, 1]  [1, 1, 12]    1          10    \n",
      "_______________________________________________\n",
      "\n",
      "                SW/conv_0-dense (Software)                 \n",
      "___________________________________________________________\n",
      "Layer (type)             Output shape   Kernel shape     \n",
      "===========================================================\n",
      "conv_0 (InputConv.)      [51, 20, 32]   (3, 3, 1, 32)    \n",
      "___________________________________________________________\n",
      "separable_1 (Sep.Conv.)  [51, 20, 32]   (3, 3, 32, 1)    \n",
      "___________________________________________________________\n",
      "                                        (1, 1, 32, 32)   \n",
      "___________________________________________________________\n",
      "separable_2 (Sep.Conv.)  [26, 10, 64]   (3, 3, 32, 1)    \n",
      "___________________________________________________________\n",
      "                                        (1, 1, 32, 64)   \n",
      "___________________________________________________________\n",
      "separable_3 (Sep.Conv.)  [26, 10, 128]  (3, 3, 64, 1)    \n",
      "___________________________________________________________\n",
      "                                        (1, 1, 64, 128)  \n",
      "___________________________________________________________\n",
      "separable_4 (Sep.Conv.)  [13, 5, 128]   (3, 3, 128, 1)   \n",
      "___________________________________________________________\n",
      "                                        (1, 1, 128, 128) \n",
      "___________________________________________________________\n",
      "separable_5 (Sep.Conv.)  [13, 5, 256]   (3, 3, 128, 1)   \n",
      "___________________________________________________________\n",
      "                                        (1, 1, 128, 256) \n",
      "___________________________________________________________\n",
      "separable_6 (Sep.Conv.)  [7, 3, 256]    (3, 3, 256, 1)   \n",
      "___________________________________________________________\n",
      "                                        (1, 1, 256, 256) \n",
      "___________________________________________________________\n",
      "separable_7 (Sep.Conv.)  [4, 2, 512]    (3, 3, 256, 1)   \n",
      "___________________________________________________________\n",
      "                                        (1, 1, 256, 512) \n",
      "___________________________________________________________\n",
      "separable_8 (Sep.Conv.)  [1, 1, 1024]   (3, 3, 512, 1)   \n",
      "___________________________________________________________\n",
      "                                        (1, 1, 512, 1024)\n",
      "___________________________________________________________\n",
      "dense (Fully.)           [1, 1, 12]     (1, 1, 1024, 12) \n",
      "___________________________________________________________\n",
      "\n"
     ]
    }
   ],
   "source": [
    "#  Convert to an Akida model\n",
    "\n",
    "akida_model = convert(quantized_model)\n",
    "akida_model.summary()"
   ]
  },
  {
   "cell_type": "code",
   "execution_count": 4,
   "id": "8ded8501",
   "metadata": {},
   "outputs": [
    {
     "name": "stdout",
     "output_type": "stream",
     "text": [
      "Feature Sets:  ['x_train', 'y_train', 'x_val', 'y_val', 'x_test', 'y_test']\n"
     ]
    }
   ],
   "source": [
    "# Load the data set\n",
    "\n",
    "feature_sets_filename = 'final1_stored_files_targets_int_normalized.npz'\n",
    "\n",
    "feature_sets = np.load(feature_sets_filename)\n",
    "\n",
    "print('Feature Sets: ', feature_sets.files)"
   ]
  },
  {
   "cell_type": "code",
   "execution_count": 5,
   "id": "99fcc0e7",
   "metadata": {},
   "outputs": [],
   "source": [
    "# Assign test set\n",
    "\n",
    "x_test = feature_sets['x_test']\n",
    "y_test = feature_sets['y_test']"
   ]
  },
  {
   "cell_type": "code",
   "execution_count": 6,
   "id": "397cd9c5",
   "metadata": {},
   "outputs": [
    {
     "name": "stdout",
     "output_type": "stream",
     "text": [
      "(4371, 40, 101, 1)\n"
     ]
    }
   ],
   "source": [
    "# Reshape to fit dimensions\n",
    "\n",
    "x_test = x_test.reshape(x_test.shape[0], \n",
    "                        x_test.shape[1], \n",
    "                        x_test.shape[2], \n",
    "                        1)\n",
    "\n",
    "print(x_test.shape)"
   ]
  },
  {
   "cell_type": "code",
   "execution_count": 7,
   "id": "8cb8038e",
   "metadata": {},
   "outputs": [
    {
     "name": "stdout",
     "output_type": "stream",
     "text": [
      "Akida NP available : <akida.core.HardwareDevice object at 0xffff4afa9870>\n"
     ]
    }
   ],
   "source": [
    "# Define device\n",
    "\n",
    "devices = akida.devices()\n",
    "print('Akida NP available :', devices[0])"
   ]
  },
  {
   "cell_type": "code",
   "execution_count": 8,
   "id": "a76c1bc1",
   "metadata": {},
   "outputs": [
    {
     "name": "stdout",
     "output_type": "stream",
     "text": [
      "BC.00.000.002\n"
     ]
    }
   ],
   "source": [
    "# Print version of NP\n",
    "\n",
    "print(devices[0].version)"
   ]
  },
  {
   "cell_type": "code",
   "execution_count": 9,
   "id": "8cdfc355",
   "metadata": {},
   "outputs": [
    {
     "name": "stdout",
     "output_type": "stream",
     "text": [
      "                 Model Summary                 \n",
      "_______________________________________________\n",
      "Input shape   Output shape  Sequences  Layers\n",
      "===============================================\n",
      "[40, 101, 1]  [1, 1, 12]    3          10    \n",
      "_______________________________________________\n",
      "\n",
      "     HW/conv_0-separable_7 (Hardware) - size: 204356 bytes     \n",
      "_______________________________________________________________\n",
      "Layer (type)             Output shape   Kernel shape      NPs\n",
      "===============================================================\n",
      "conv_0 (InputConv.)      [51, 20, 32]   (3, 3, 1, 32)     N/A\n",
      "_______________________________________________________________\n",
      "separable_1 (Sep.Conv.)  [51, 20, 32]   (3, 3, 32, 1)     2  \n",
      "_______________________________________________________________\n",
      "                                        (1, 1, 32, 32)       \n",
      "_______________________________________________________________\n",
      "separable_2 (Sep.Conv.)  [26, 10, 64]   (3, 3, 32, 1)     2  \n",
      "_______________________________________________________________\n",
      "                                        (1, 1, 32, 64)       \n",
      "_______________________________________________________________\n",
      "separable_3 (Sep.Conv.)  [26, 10, 128]  (3, 3, 64, 1)     1  \n",
      "_______________________________________________________________\n",
      "                                        (1, 1, 64, 128)      \n",
      "_______________________________________________________________\n",
      "separable_4 (Sep.Conv.)  [13, 5, 128]   (3, 3, 128, 1)    1  \n",
      "_______________________________________________________________\n",
      "                                        (1, 1, 128, 128)     \n",
      "_______________________________________________________________\n",
      "separable_5 (Sep.Conv.)  [13, 5, 256]   (3, 3, 128, 1)    1  \n",
      "_______________________________________________________________\n",
      "                                        (1, 1, 128, 256)     \n",
      "_______________________________________________________________\n",
      "separable_6 (Sep.Conv.)  [7, 3, 256]    (3, 3, 256, 1)    1  \n",
      "_______________________________________________________________\n",
      "                                        (1, 1, 256, 256)     \n",
      "_______________________________________________________________\n",
      "separable_7 (Sep.Conv.)  [4, 2, 512]    (3, 3, 256, 1)    2  \n",
      "_______________________________________________________________\n",
      "                                        (1, 1, 256, 512)     \n",
      "_______________________________________________________________\n",
      "\n",
      "                SW/separable_8 (Software)                 \n",
      "__________________________________________________________\n",
      "Layer (type)             Output shape  Kernel shape     \n",
      "==========================================================\n",
      "separable_8 (Sep.Conv.)  [1, 1, 1024]  (3, 3, 512, 1)   \n",
      "__________________________________________________________\n",
      "                                       (1, 1, 512, 1024)\n",
      "__________________________________________________________\n",
      "\n",
      "       HW/dense (Hardware) - size: 10000 bytes       \n",
      "_____________________________________________________\n",
      "Layer (type)    Output shape  Kernel shape      NPs\n",
      "=====================================================\n",
      "dense (Fully.)  [1, 1, 12]    (1, 1, 1024, 12)  1  \n",
      "_____________________________________________________\n",
      "\n"
     ]
    }
   ],
   "source": [
    "# Map Akida model to device\n",
    "\n",
    "device = devices[0]\n",
    "\n",
    "akida_model.map(device)\n",
    "\n",
    "akida_model.summary()"
   ]
  },
  {
   "cell_type": "code",
   "execution_count": 45,
   "id": "46f66e6c",
   "metadata": {},
   "outputs": [
    {
     "name": "stdout",
     "output_type": "stream",
     "text": [
      "Time before test:  3551.562399509\n",
      "Voltage:  893750\n",
      "At Timestamp:  3551696\n",
      "Voltage:  893750\n",
      "At Timestamp:  3551697\n",
      "Voltage:  893750\n",
      "At Timestamp:  3551781\n",
      "Voltage:  893750\n",
      "At Timestamp:  3551937\n",
      "Voltage:  893750\n",
      "At Timestamp:  3551938\n",
      "Voltage:  893750\n",
      "At Timestamp:  3552035\n",
      "Voltage:  893750\n",
      "At Timestamp:  3552095\n",
      "Voltage:  893750\n",
      "At Timestamp:  3552156\n",
      "Voltage:  893750\n",
      "At Timestamp:  3552278\n",
      "Voltage:  893750\n",
      "At Timestamp:  3552308\n",
      "Voltage:  893750\n",
      "At Timestamp:  3552405\n",
      "Voltage:  893750\n",
      "At Timestamp:  3552460\n",
      "Voltage:  893750\n",
      "At Timestamp:  3552509\n",
      "Voltage:  893750\n",
      "At Timestamp:  3552628\n",
      "Voltage:  893750\n",
      "At Timestamp:  3552661\n",
      "Voltage:  893750\n",
      "At Timestamp:  3552733\n",
      "Voltage:  893750\n",
      "At Timestamp:  3552785\n",
      "Voltage:  893750\n",
      "At Timestamp:  3552861\n",
      "Voltage:  893750\n",
      "At Timestamp:  3552931\n",
      "Voltage:  893750\n",
      "At Timestamp:  3553009\n",
      "Voltage:  893750\n",
      "At Timestamp:  3553077\n",
      "Voltage:  893750\n",
      "At Timestamp:  3553145\n",
      "Voltage:  893750\n",
      "At Timestamp:  3553213\n",
      "Voltage:  893750\n",
      "At Timestamp:  3553280\n",
      "Voltage:  893750\n",
      "At Timestamp:  3553354\n",
      "Voltage:  893750\n",
      "At Timestamp:  3553418\n",
      "Voltage:  895000\n",
      "At Timestamp:  3553489\n",
      "Voltage:  895000\n",
      "At Timestamp:  3553559\n",
      "Voltage:  893750\n",
      "At Timestamp:  3553629\n",
      "Voltage:  893750\n",
      "At Timestamp:  3553700\n",
      "Time after test:  3557.869138244\n",
      "Floor power: 913.41 mW\n",
      "\n",
      "Sequence HW/conv_0-separable_7\n",
      "Average framerate = 2482.11 fps\n",
      "Last inference power range (mW):  Avg 969.96 / Min 922.00 / Max 975.00 / Std 10.42 \n",
      "Last inference energy consumed (mJ/frame): 0.39\n",
      "Sequence SW/separable_8\n",
      "Average framerate = 1166.22 fps\n",
      "Last inference power range (mW):  Avg 915.50 / Min 913.00 / Max 923.00 / Std 2.10 \n",
      "Last inference energy consumed (mJ/frame): 0.79\n",
      "Sequence HW/dense\n",
      "Average framerate = 6096.23 fps\n",
      "Last inference power range (mW):  Avg 918.00 / Min 916.00 / Max 925.00 / Std 3.97 \n",
      "Last inference energy consumed (mJ/frame): 0.15\n"
     ]
    }
   ],
   "source": [
    "# Enable power measurement\n",
    "\n",
    "device.soc.power_measurement_enabled = True\n",
    "\n",
    "# Send data for inference\n",
    "\n",
    "start = timer()\n",
    "print('Time before test: ',timer())\n",
    "_ = akida_model.forward(x_test)\n",
    "events = device.soc.power_meter.events\n",
    "for i in range(30):\n",
    "    print('Voltage: ',events()[i].voltage)\n",
    "    print('At Timestamp: ', events()[i].ts)\n",
    "print('Time after test: ',timer())\n",
    "end = timer()\n",
    "\n",
    "# Display floor current\n",
    "\n",
    "floor_power = device.soc.power_meter.floor\n",
    "print(f'Floor power: {floor_power:.2f} mW')\n",
    "\n",
    "# Retrieve statistics\n",
    "\n",
    "print(akida_model.statistics)\n",
    "\n"
   ]
  },
  {
   "cell_type": "code",
   "execution_count": 34,
   "id": "463798da",
   "metadata": {},
   "outputs": [
    {
     "name": "stdout",
     "output_type": "stream",
     "text": [
      "Akida inference 4371 MFCC took 5.83 s.\n",
      "\n"
     ]
    }
   ],
   "source": [
    "# Print inference\n",
    "\n",
    "print(f'Akida inference {len(x_test)} MFCC took {end-start:.2f} s.\\n')"
   ]
  },
  {
   "cell_type": "markdown",
   "id": "0ece7273",
   "metadata": {},
   "source": [
    "<font size=\"5\">Investigation on Power Consumption with different Quantization Bit-Widths</font>"
   ]
  },
  {
   "cell_type": "code",
   "execution_count": 35,
   "id": "e39739d4",
   "metadata": {},
   "outputs": [
    {
     "name": "stdout",
     "output_type": "stream",
     "text": [
      "                 Model Summary                 \n",
      "_______________________________________________\n",
      "Input shape   Output shape  Sequences  Layers\n",
      "===============================================\n",
      "[40, 101, 1]  [1, 1, 12]    3          10    \n",
      "_______________________________________________\n",
      "\n",
      "     HW/conv_0-separable_7 (Hardware) - size: 204356 bytes     \n",
      "_______________________________________________________________\n",
      "Layer (type)             Output shape   Kernel shape      NPs\n",
      "===============================================================\n",
      "conv_0 (InputConv.)      [51, 20, 32]   (3, 3, 1, 32)     N/A\n",
      "_______________________________________________________________\n",
      "separable_1 (Sep.Conv.)  [51, 20, 32]   (3, 3, 32, 1)     2  \n",
      "_______________________________________________________________\n",
      "                                        (1, 1, 32, 32)       \n",
      "_______________________________________________________________\n",
      "separable_2 (Sep.Conv.)  [26, 10, 64]   (3, 3, 32, 1)     2  \n",
      "_______________________________________________________________\n",
      "                                        (1, 1, 32, 64)       \n",
      "_______________________________________________________________\n",
      "separable_3 (Sep.Conv.)  [26, 10, 128]  (3, 3, 64, 1)     1  \n",
      "_______________________________________________________________\n",
      "                                        (1, 1, 64, 128)      \n",
      "_______________________________________________________________\n",
      "separable_4 (Sep.Conv.)  [13, 5, 128]   (3, 3, 128, 1)    1  \n",
      "_______________________________________________________________\n",
      "                                        (1, 1, 128, 128)     \n",
      "_______________________________________________________________\n",
      "separable_5 (Sep.Conv.)  [13, 5, 256]   (3, 3, 128, 1)    1  \n",
      "_______________________________________________________________\n",
      "                                        (1, 1, 128, 256)     \n",
      "_______________________________________________________________\n",
      "separable_6 (Sep.Conv.)  [7, 3, 256]    (3, 3, 256, 1)    1  \n",
      "_______________________________________________________________\n",
      "                                        (1, 1, 256, 256)     \n",
      "_______________________________________________________________\n",
      "separable_7 (Sep.Conv.)  [4, 2, 512]    (3, 3, 256, 1)    2  \n",
      "_______________________________________________________________\n",
      "                                        (1, 1, 256, 512)     \n",
      "_______________________________________________________________\n",
      "\n",
      "                SW/separable_8 (Software)                 \n",
      "__________________________________________________________\n",
      "Layer (type)             Output shape  Kernel shape     \n",
      "==========================================================\n",
      "separable_8 (Sep.Conv.)  [1, 1, 1024]  (3, 3, 512, 1)   \n",
      "__________________________________________________________\n",
      "                                       (1, 1, 512, 1024)\n",
      "__________________________________________________________\n",
      "\n",
      "       HW/dense (Hardware) - size: 10000 bytes       \n",
      "_____________________________________________________\n",
      "Layer (type)    Output shape  Kernel shape      NPs\n",
      "=====================================================\n",
      "dense (Fully.)  [1, 1, 12]    (1, 1, 1024, 12)  1  \n",
      "_____________________________________________________\n",
      "\n"
     ]
    }
   ],
   "source": [
    "# Quanitize to 1-bit activations\n",
    "\n",
    "quantized1_model = quantize(quantized_model,\n",
    "                           input_weight_quantization=8,\n",
    "                           weight_quantization=4,\n",
    "                           activ_quantization=1)\n",
    "akida_model = convert(quantized1_model)\n",
    "device = devices[0]\n",
    "\n",
    "akida_model.map(device)\n",
    "\n",
    "akida_model.summary()"
   ]
  },
  {
   "cell_type": "code",
   "execution_count": 36,
   "id": "dfb5293e",
   "metadata": {},
   "outputs": [
    {
     "name": "stdout",
     "output_type": "stream",
     "text": [
      "Floor power: 913.41 mW\n",
      "\n",
      "Sequence HW/conv_0-separable_7\n",
      "Average framerate = 3133.33 fps\n",
      "Last inference power range (mW):  Avg 946.25 / Min 933.00 / Max 951.00 / Std 5.31 \n",
      "Last inference energy consumed (mJ/frame): 0.30\n",
      "Sequence SW/separable_8\n",
      "Average framerate = 1167.78 fps\n",
      "Last inference power range (mW):  Avg 916.96 / Min 916.00 / Max 935.00 / Std 3.67 \n",
      "Last inference energy consumed (mJ/frame): 0.79\n",
      "Sequence HW/dense\n",
      "Average framerate = 6632.78 fps\n",
      "Last inference power range (mW):  Avg 914.56 / Min 913.00 / Max 917.00 / Std 1.88 \n",
      "Last inference energy consumed (mJ/frame): 0.14\n"
     ]
    }
   ],
   "source": [
    "# Source: https://doc.brainchipinc.com/examples/general/plot_1_akidanet_imagenet.html#sphx-glr-examples-general-plot-1-akidanet-imagenet-py\n",
    "# Enable power measurement\n",
    "\n",
    "device.soc.power_measurement_enabled = True\n",
    "\n",
    "# Send data for inference\n",
    "\n",
    "start = timer()\n",
    "_ = akida_model.forward(x_test)\n",
    "end = timer()\n",
    "\n",
    "# Display floor current\n",
    "\n",
    "floor_power = device.soc.power_meter.floor\n",
    "print(f'Floor power: {floor_power:.2f} mW')\n",
    "\n",
    "# Retrieve statistics\n",
    "\n",
    "print(akida_model.statistics)"
   ]
  },
  {
   "cell_type": "code",
   "execution_count": 37,
   "id": "cfba960f",
   "metadata": {},
   "outputs": [
    {
     "name": "stdout",
     "output_type": "stream",
     "text": [
      "Akida inference 4371 MFCC took 5.88 s.\n",
      "\n"
     ]
    }
   ],
   "source": [
    "print(f'Akida inference {len(x_test)} MFCC took {end-start:.2f} s.\\n')"
   ]
  },
  {
   "cell_type": "code",
   "execution_count": 38,
   "id": "ed948314",
   "metadata": {},
   "outputs": [
    {
     "name": "stdout",
     "output_type": "stream",
     "text": [
      "                 Model Summary                 \n",
      "_______________________________________________\n",
      "Input shape   Output shape  Sequences  Layers\n",
      "===============================================\n",
      "[40, 101, 1]  [1, 1, 12]    3          10    \n",
      "_______________________________________________\n",
      "\n",
      "     HW/conv_0-separable_7 (Hardware) - size: 110916 bytes     \n",
      "_______________________________________________________________\n",
      "Layer (type)             Output shape   Kernel shape      NPs\n",
      "===============================================================\n",
      "conv_0 (InputConv.)      [51, 20, 32]   (3, 3, 1, 32)     N/A\n",
      "_______________________________________________________________\n",
      "separable_1 (Sep.Conv.)  [51, 20, 32]   (3, 3, 32, 1)     2  \n",
      "_______________________________________________________________\n",
      "                                        (1, 1, 32, 32)       \n",
      "_______________________________________________________________\n",
      "separable_2 (Sep.Conv.)  [26, 10, 64]   (3, 3, 32, 1)     2  \n",
      "_______________________________________________________________\n",
      "                                        (1, 1, 32, 64)       \n",
      "_______________________________________________________________\n",
      "separable_3 (Sep.Conv.)  [26, 10, 128]  (3, 3, 64, 1)     1  \n",
      "_______________________________________________________________\n",
      "                                        (1, 1, 64, 128)      \n",
      "_______________________________________________________________\n",
      "separable_4 (Sep.Conv.)  [13, 5, 128]   (3, 3, 128, 1)    1  \n",
      "_______________________________________________________________\n",
      "                                        (1, 1, 128, 128)     \n",
      "_______________________________________________________________\n",
      "separable_5 (Sep.Conv.)  [13, 5, 256]   (3, 3, 128, 1)    1  \n",
      "_______________________________________________________________\n",
      "                                        (1, 1, 128, 256)     \n",
      "_______________________________________________________________\n",
      "separable_6 (Sep.Conv.)  [7, 3, 256]    (3, 3, 256, 1)    1  \n",
      "_______________________________________________________________\n",
      "                                        (1, 1, 256, 256)     \n",
      "_______________________________________________________________\n",
      "separable_7 (Sep.Conv.)  [4, 2, 512]    (3, 3, 256, 1)    2  \n",
      "_______________________________________________________________\n",
      "                                        (1, 1, 256, 512)     \n",
      "_______________________________________________________________\n",
      "\n",
      "                SW/separable_8 (Software)                 \n",
      "__________________________________________________________\n",
      "Layer (type)             Output shape  Kernel shape     \n",
      "==========================================================\n",
      "separable_8 (Sep.Conv.)  [1, 1, 1024]  (3, 3, 512, 1)   \n",
      "__________________________________________________________\n",
      "                                       (1, 1, 512, 1024)\n",
      "__________________________________________________________\n",
      "\n",
      "       HW/dense (Hardware) - size: 3856 bytes        \n",
      "_____________________________________________________\n",
      "Layer (type)    Output shape  Kernel shape      NPs\n",
      "=====================================================\n",
      "dense (Fully.)  [1, 1, 12]    (1, 1, 1024, 12)  1  \n",
      "_____________________________________________________\n",
      "\n"
     ]
    }
   ],
   "source": [
    "quantized1_model = quantize(quantized_model,\n",
    "                           input_weight_quantization=8,\n",
    "                           weight_quantization=2,\n",
    "                           activ_quantization=1)\n",
    "akida_model = convert(quantized1_model)\n",
    "device = devices[0]\n",
    "\n",
    "akida_model.map(device)\n",
    "\n",
    "akida_model.summary()"
   ]
  },
  {
   "cell_type": "code",
   "execution_count": 39,
   "id": "efd2c6ec",
   "metadata": {},
   "outputs": [
    {
     "name": "stdout",
     "output_type": "stream",
     "text": [
      "Floor power: 913.41 mW\n",
      "\n",
      "Sequence HW/conv_0-separable_7\n",
      "Average framerate = 2522.22 fps\n",
      "Last inference power range (mW):  Avg 970.05 / Min 953.00 / Max 975.00 / Std 5.98 \n",
      "Last inference energy consumed (mJ/frame): 0.38\n",
      "Sequence SW/separable_8\n",
      "Average framerate = 1165.60 fps\n",
      "Last inference power range (mW):  Avg 914.21 / Min 913.00 / Max 940.00 / Std 5.22 \n",
      "Last inference energy consumed (mJ/frame): 0.78\n",
      "Sequence HW/dense\n",
      "Average framerate = 6409.09 fps\n",
      "Last inference power range (mW):  Avg 913.22 / Min 913.00 / Max 914.00 / Std 0.44 \n",
      "Last inference energy consumed (mJ/frame): 0.14\n"
     ]
    }
   ],
   "source": [
    "#Source: https://doc.brainchipinc.com/examples/general/plot_1_akidanet_imagenet.html#sphx-glr-examples-general-plot-1-akidanet-imagenet-py\n",
    "# Enable power measurement\n",
    "\n",
    "device.soc.power_measurement_enabled = True\n",
    "\n",
    "# Send data for inference\n",
    "\n",
    "start = timer()\n",
    "_ = akida_model.forward(x_test)\n",
    "end = timer()\n",
    "\n",
    "# Display floor current\n",
    "\n",
    "floor_power = device.soc.power_meter.floor\n",
    "print(f'Floor power: {floor_power:.2f} mW')\n",
    "\n",
    "# Retrieve statistics\n",
    "\n",
    "print(akida_model.statistics)"
   ]
  },
  {
   "cell_type": "code",
   "execution_count": 40,
   "id": "3959c1c9",
   "metadata": {},
   "outputs": [
    {
     "name": "stdout",
     "output_type": "stream",
     "text": [
      "Akida inference 4371 MFCC took 6.23 s.\n",
      "\n"
     ]
    }
   ],
   "source": [
    "print(f'Akida inference {len(x_test)} MFCC took {end-start:.2f} s.\\n')"
   ]
  },
  {
   "cell_type": "code",
   "execution_count": null,
   "id": "74b27099",
   "metadata": {},
   "outputs": [],
   "source": []
  }
 ],
 "metadata": {
  "kernelspec": {
   "display_name": "Python 3 (ipykernel)",
   "language": "python",
   "name": "python3"
  },
  "language_info": {
   "codemirror_mode": {
    "name": "ipython",
    "version": 3
   },
   "file_extension": ".py",
   "mimetype": "text/x-python",
   "name": "python",
   "nbconvert_exporter": "python",
   "pygments_lexer": "ipython3",
   "version": "3.9.7"
  }
 },
 "nbformat": 4,
 "nbformat_minor": 5
}
